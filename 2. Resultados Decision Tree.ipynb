{
 "cells": [
  {
   "cell_type": "markdown",
   "metadata": {},
   "source": [
    "# Resultados Decision Tree"
   ]
  },
  {
   "cell_type": "markdown",
   "metadata": {},
   "source": [
    "# Imports"
   ]
  },
  {
   "cell_type": "code",
   "execution_count": 1,
   "metadata": {},
   "outputs": [],
   "source": [
    "import pandas as pd \n",
    "import numpy as np\n",
    "import re\n",
    "import os\n",
    "import matplotlib.pyplot as plt\n",
    "import seaborn as sns\n",
    "from sklearn.preprocessing import MinMaxScaler, StandardScaler\n",
    "from sklearn.metrics import confusion_matrix\n",
    "from sklearn.metrics import confusion_matrix, classification_report, precision_score, recall_score, f1_score, roc_curve, roc_auc_score\n",
    "from sklearn.feature_selection import RFE\n",
    "from sklearn.model_selection import GridSearchCV\n",
    "from sklearn.tree import DecisionTreeClassifier\n",
    "import time\n",
    "import warnings\n",
    "warnings.filterwarnings(\"ignore\")"
   ]
  },
  {
   "cell_type": "code",
   "execution_count": 2,
   "metadata": {},
   "outputs": [],
   "source": [
    "from funcoes_module import rms, pk_pk, kurtosis, crest_factor, skewness, shape_factor, std_value, min_value, max_value, mean_value\n",
    "from funcoes_module import extract_info_from_filename, extract_and_format_dataframe, format_time, features_extract, features_timeframe,format_dataframe_basona ,extract_datasets_and_process_features,read_1file_datasets , combine_features_datasets \n",
    "from funcoes_module import plot_df,plot_df_features, compare_df_plots #,plot_health_non_health_features\n",
    "from descricoes_SE import descricao_falha"
   ]
  },
  {
   "cell_type": "code",
   "execution_count": 3,
   "metadata": {},
   "outputs": [],
   "source": [
    "redundant_ft_drop_list = ['gearbox_vibration_x.rms','gearbox_vibration_z.kurtosis','gearbox_vibration_z.rms','gearbox_vibration_x.crest_factor','gearbox_vibration_x.min','gearbox_vibration_x.pk_pk','Input Torque.mean']"
   ]
  },
  {
   "cell_type": "markdown",
   "metadata": {},
   "source": [
    "## Funções Formatação"
   ]
  },
  {
   "cell_type": "code",
   "execution_count": 4,
   "metadata": {},
   "outputs": [],
   "source": [
    "#### #### Funções Formatação #### ####\n",
    "def normalize_data(dataframe):\n",
    "    scaler = MinMaxScaler() \n",
    "    # Selecting numerical columns in the DataFrame\n",
    "    numerical_cols = dataframe.select_dtypes(include=['int64', 'float64']).columns\n",
    "    #normalized_df =dataframe.copy()\n",
    "    # Fitting the scaler and transforming the data\n",
    "    df2 = dataframe.copy()\n",
    "    df2[numerical_cols] = scaler.fit_transform(df2[numerical_cols])\n",
    "    return df2\n",
    "\n",
    "def fault_to_binary(dataframe):\n",
    "    df_features = dataframe.copy()\n",
    "    if not ((df_features['Fault'] == 0) | (df_features['Fault'] == 1)).all(): #condição para não dar ruim se aplicar 2x a função\n",
    "        df_features['Fault'] = df_features['Fault'].apply(lambda x: 0 if x == 'health' else 1)\n",
    "    #df_features['Fault'].value_counts()\n",
    "    return df_features\n",
    "\n",
    "def top_features_list(df_features, num_features):\n",
    "    # Select numeric types from the DataFrame\n",
    "    df_features_num = df_features.select_dtypes(include=['float64', 'int64'])\n",
    "    \n",
    "    # Compute the absolute correlation with 'Fault'\n",
    "    top_features = abs(df_features_num.corr()['Fault'])\n",
    "    \n",
    "    # Drop the 'Fault' column from the series to avoid self-correlation\n",
    "    top_features = top_features.drop('Fault', axis=0)\n",
    "    \n",
    "    # Get the 'num_features' largest values\n",
    "    largest_features = top_features.nlargest(num_features)\n",
    "    \n",
    "    # Return the index of the largest features as a list\n",
    "    features_chosen = largest_features.index.tolist()\n",
    "    return features_chosen\n",
    "\n",
    "def filter_top_features_df(df_features,top_features):    \n",
    "    filtered_columns = top_features + ['Fault','Torque']#,'Degree']\n",
    "    df_features = df_features[filtered_columns]\n",
    "    return df_features\n",
    "\n",
    "def format_dataframe_features(df_features_org,number_of_features):\n",
    "\n",
    "    normalized_dataframe = normalize_data(df_features_org)\n",
    "    binary_fault_dataframe = fault_to_binary(normalized_dataframe)\n",
    "\n",
    "    top_ft_list = top_features_list(binary_fault_dataframe,number_of_features)\n",
    "\n",
    "    df_top_features = filter_top_features_df(binary_fault_dataframe,top_ft_list)\n",
    "    return df_top_features,binary_fault_dataframe"
   ]
  },
  {
   "cell_type": "markdown",
   "metadata": {},
   "source": [
    "# Início\n",
    "- df_treino_ciclo1\n",
    "- df_treino_ciclo2\n",
    "- df_teste_ciclo1\n",
    "- df_teste_ciclo2\n",
    "  \n",
    "Importando dataset treino"
   ]
  },
  {
   "cell_type": "code",
   "execution_count": 5,
   "metadata": {},
   "outputs": [
    {
     "name": "stdout",
     "output_type": "stream",
     "text": [
      "Columns [col] not found in [filename]\n",
      "number of files geral = 23\n",
      "combined files geral: ['gear_pitting_H_torque_circulation_2000rpm_10Nm.csv', 'gear_pitting_H_torque_circulation_2000rpm_20Nm.csv', 'gear_pitting_L_torque_circulation_2000rpm_10Nm.csv', 'gear_pitting_L_torque_circulation_2000rpm_20Nm.csv', 'gear_pitting_M_torque_circulation_2000rpm_10Nm.csv', 'gear_pitting_M_torque_circulation_2000rpm_20Nm.csv', 'gear_wear_H_torque_circulation_2000rpm_10Nm.csv', 'gear_wear_H_torque_circulation_2000rpm_20Nm.csv', 'gear_wear_L_torque_circulation_2000rpm_10Nm.csv', 'gear_wear_L_torque_circulation_2000rpm_20Nm.csv', 'gear_wear_M_torque_circulation_2000rpm_10Nm.csv', 'gear_wear_M_torque_circulation_2000rpm_20Nm.csv', 'teeth_break_H_torque_circulation_2000rpm_10Nm.csv', 'teeth_break_H_torque_circulation_2000rpm_20Nm.csv', 'teeth_break_L_torque_circulation_2000rpm_10Nm.csv', 'teeth_break_L_torque_circulation_2000rpm_20Nm.csv', 'teeth_break_M_torque_circulation_2000rpm_10Nm.csv', 'teeth_break_M_torque_circulation_2000rpm_20Nm.csv', 'teeth_crack_H_torque_circulation_2000rpm_10Nm.csv', 'teeth_crack_L_torque_circulation_2000rpm_10Nm.csv', 'teeth_crack_L_torque_circulation_2000rpm_20Nm.csv', 'teeth_crack_M_torque_circulation_2000rpm_10Nm.csv', 'teeth_crack_M_torque_circulation_2000rpm_20Nm.csv']\n",
      "Columns [col] not found in [filename]\n",
      "number of files health = 2\n",
      "combined files health: ['health_torque_circulation_2000rpm_10Nm.csv', 'health_torque_circulation_2000rpm_20Nm.csv']\n",
      "Columns [col] not found in [filename]\n",
      "number of files miss_teeth = 2\n",
      "combined files miss_teeth: ['miss_teeth_torque_circulation_2000rpm_10Nm.csv', 'miss_teeth_torque_circulation_2000rpm_20Nm.csv']\n",
      "Columns [col] not found in [filename]\n",
      "number of files geral = 23\n",
      "combined files geral: ['gear_pitting_H_torque_circulation_2000rpm_10Nm.csv', 'gear_pitting_H_torque_circulation_2000rpm_20Nm.csv', 'gear_pitting_L_torque_circulation_2000rpm_10Nm.csv', 'gear_pitting_L_torque_circulation_2000rpm_20Nm.csv', 'gear_pitting_M_torque_circulation_2000rpm_10Nm.csv', 'gear_pitting_M_torque_circulation_2000rpm_20Nm.csv', 'gear_wear_H_torque_circulation_2000rpm_10Nm.csv', 'gear_wear_H_torque_circulation_2000rpm_20Nm.csv', 'gear_wear_L_torque_circulation_2000rpm_10Nm.csv', 'gear_wear_L_torque_circulation_2000rpm_20Nm.csv', 'gear_wear_M_torque_circulation_2000rpm_10Nm.csv', 'gear_wear_M_torque_circulation_2000rpm_20Nm.csv', 'teeth_break_H_torque_circulation_2000rpm_10Nm.csv', 'teeth_break_H_torque_circulation_2000rpm_20Nm.csv', 'teeth_break_L_torque_circulation_2000rpm_10Nm.csv', 'teeth_break_L_torque_circulation_2000rpm_20Nm.csv', 'teeth_break_M_torque_circulation_2000rpm_10Nm.csv', 'teeth_break_M_torque_circulation_2000rpm_20Nm.csv', 'teeth_crack_H_torque_circulation_2000rpm_10Nm.csv', 'teeth_crack_L_torque_circulation_2000rpm_10Nm.csv', 'teeth_crack_L_torque_circulation_2000rpm_20Nm.csv', 'teeth_crack_M_torque_circulation_2000rpm_10Nm.csv', 'teeth_crack_M_torque_circulation_2000rpm_20Nm.csv']\n",
      "Columns [col] not found in [filename]\n",
      "number of files health = 2\n",
      "combined files health: ['health_torque_circulation_2000rpm_10Nm.csv', 'health_torque_circulation_2000rpm_20Nm.csv']\n",
      "Columns [col] not found in [filename]\n",
      "number of files miss_teeth = 2\n",
      "combined files miss_teeth: ['miss_teeth_torque_circulation_2000rpm_10Nm.csv', 'miss_teeth_torque_circulation_2000rpm_20Nm.csv']\n"
     ]
    }
   ],
   "source": [
    "# importando e criando basone treino\n",
    "df_features_org = combine_features_datasets(\"todos\",\"inicial\",0.1)\n",
    "########df_features_org = df_features_org[df_features_org['Torque']=='20Nm']\n",
    "\n",
    "#df_features_org2 = df_features_org.drop(columns=redundant_ft_drop_list) #dropando features redundantes\n",
    "normalized_dataframe = normalize_data(df_features_org)\n",
    "\n",
    "df_treino_ciclo2 = normalized_dataframe\n",
    "df_treino_ciclo1 = fault_to_binary(normalized_dataframe) #transformando variável alvo em binário (encoding)\n",
    "\n",
    "\n",
    "# Importando e criando basona teste\n",
    "df_features_org_t = combine_features_datasets(\"todos\",\"final\",0.1) #treino,teste,todos ; inicial,final ; timeframe\n",
    "#######df_features_org_t = df_features_org_t[df_features_org_t['Torque']=='20Nm']\n",
    "#df_features_org_t2 = df_features_org_t.drop(columns=redundant_ft_drop_list)\n",
    "normalized_dataframe_t = normalize_data(df_features_org_t)\n",
    "\n",
    "df_teste_ciclo1 = fault_to_binary(normalized_dataframe_t)\n",
    "df_teste_ciclo2 = normalized_dataframe_t\n"
   ]
  },
  {
   "cell_type": "markdown",
   "metadata": {},
   "source": [
    "# Organizando as variáveis \n",
    "## Organizando as variáveisCiclo1 \n",
    "### Dividir Conjunto em treino e teste\n",
    "- df_treino_ciclo1\n",
    "- df_teste_ciclo1\n",
    "  \n",
    "importante usar o meu encoder próprio pq ele classifica do jeito q eu quero 1 = tudo menos health, 0 = health"
   ]
  },
  {
   "cell_type": "markdown",
   "metadata": {},
   "source": [
    "Separando entre treino e teste"
   ]
  },
  {
   "cell_type": "code",
   "execution_count": 6,
   "metadata": {},
   "outputs": [],
   "source": [
    "categorias_list = ['Categoria','Degree','Rotação']\n",
    "\n",
    "dataset_treino_c1 = df_treino_ciclo1.drop(columns=categorias_list)   # 60%\n",
    "dataset_teste_c1 = df_teste_ciclo1.drop(columns=categorias_list) #40%"
   ]
  },
  {
   "cell_type": "markdown",
   "metadata": {},
   "source": [
    "Separando X e y"
   ]
  },
  {
   "cell_type": "code",
   "execution_count": 7,
   "metadata": {},
   "outputs": [],
   "source": [
    "#treino\n",
    "X_train_c1 = dataset_treino_c1.drop(columns='Fault')#.iloc[:,-2:] filtrar n features\n",
    "y_train_c1 = dataset_treino_c1.pop('Fault')\n",
    "\n",
    "#teste\n",
    "X_test_c1 = dataset_teste_c1.drop(columns='Fault')\n",
    "y_test_c1 = dataset_teste_c1.pop('Fault')\n"
   ]
  },
  {
   "cell_type": "code",
   "execution_count": 8,
   "metadata": {},
   "outputs": [
    {
     "name": "stdout",
     "output_type": "stream",
     "text": [
      " Treino: x =(2160, 41) ; y = (2160,)\n",
      " Teste: x =(2133, 41) ; y = (2133,)\n"
     ]
    }
   ],
   "source": [
    "print(f' Treino: x ={X_train_c1.shape} ; y = {y_train_c1.shape}')\n",
    "print(f' Teste: x ={X_test_c1.shape} ; y = {y_test_c1.shape}')"
   ]
  },
  {
   "cell_type": "markdown",
   "metadata": {},
   "source": [
    "Tratando a coluna categórica 'Torque' com label encoding"
   ]
  },
  {
   "cell_type": "code",
   "execution_count": 9,
   "metadata": {},
   "outputs": [],
   "source": [
    "from sklearn.preprocessing import LabelEncoder\n",
    "# Assuming 'Torque' column is in both X_train, X_val, and X_test\n",
    "le = LabelEncoder()\n",
    "\n",
    "# Fit and transform on the training data\n",
    "X_train_c1['Torque'] = le.fit_transform(X_train_c1['Torque'])\n",
    "X_test_c1['Torque'] = le.transform(X_test_c1['Torque'])"
   ]
  },
  {
   "cell_type": "markdown",
   "metadata": {},
   "source": [
    "### Criando variáveis de treino e teste"
   ]
  },
  {
   "cell_type": "code",
   "execution_count": 10,
   "metadata": {},
   "outputs": [],
   "source": [
    "categorias_list = ['Categoria','Degree','Rotação']\n",
    "\n",
    "dataset_treino_c2 = df_treino_ciclo2.drop(columns=categorias_list)   # 60%\n",
    "dataset_teste_c2 = df_teste_ciclo2.drop(columns=categorias_list) #40%"
   ]
  },
  {
   "cell_type": "code",
   "execution_count": 11,
   "metadata": {},
   "outputs": [],
   "source": [
    "#treino\n",
    "X_train_c2 = dataset_treino_c2.drop(columns='Fault')#.iloc[:,-2:] filtrar n features\n",
    "y_train_c2x = dataset_treino_c2.pop('Fault')\n",
    "\n",
    "#teste\n",
    "X_test_c2 = dataset_teste_c2.drop(columns='Fault')\n",
    "y_test_c2x = dataset_teste_c2.pop('Fault')"
   ]
  },
  {
   "cell_type": "code",
   "execution_count": 12,
   "metadata": {},
   "outputs": [
    {
     "name": "stdout",
     "output_type": "stream",
     "text": [
      " Treino: x =(2160, 41) ; y = (2160,)\n",
      " Teste: x =(2133, 41) ; y = (2133,)\n"
     ]
    }
   ],
   "source": [
    "print(f' Treino: x ={X_train_c2.shape} ; y = {y_train_c2x.shape}')\n",
    "print(f' Teste: x ={X_test_c2.shape} ; y = {y_test_c2x.shape}')"
   ]
  },
  {
   "cell_type": "markdown",
   "metadata": {},
   "source": [
    "Label Encoders\n",
    "- torque\n",
    "- target (y)"
   ]
  },
  {
   "cell_type": "code",
   "execution_count": 13,
   "metadata": {},
   "outputs": [],
   "source": [
    "from sklearn.preprocessing import LabelEncoder\n",
    "# Assuming 'Torque' column is in both X_train, X_val, and X_test\n",
    "le = LabelEncoder()\n",
    "\n",
    "# Fit and transform on the training data\n",
    "X_train_c2['Torque'] = le.fit_transform(X_train_c2['Torque'])\n",
    "X_test_c2['Torque'] = le.transform(X_test_c2['Torque'])"
   ]
  },
  {
   "cell_type": "markdown",
   "metadata": {},
   "source": [
    "aplicando encoder na target variable (opcional aparentemente)"
   ]
  },
  {
   "cell_type": "code",
   "execution_count": 14,
   "metadata": {},
   "outputs": [],
   "source": [
    "\n",
    "# # Initialize label encoder for target variable\n",
    "le_y = LabelEncoder()\n",
    "\n",
    "# # Fit and transform the target variable\n",
    "y_train_c2 = le_y.fit_transform(y_train_c2x.values)\n",
    "y_test_c2 = le_y.transform(y_test_c2x.values)"
   ]
  },
  {
   "cell_type": "markdown",
   "metadata": {},
   "source": [
    "### Resultado:\n",
    "Criação das variáveis:\n",
    "- X_train_c1\n",
    "- X_train_c2\n",
    "- y_train_c1\n",
    "- y_train_c2\n",
    "-\n",
    "- X_teste_c1\n",
    "- X_teste_c2\n",
    "- y_teste_c1\n",
    "- y_teste_c2"
   ]
  },
  {
   "cell_type": "markdown",
   "metadata": {},
   "source": [
    "# Execução dos modelos "
   ]
  },
  {
   "cell_type": "code",
   "execution_count": 15,
   "metadata": {},
   "outputs": [],
   "source": [
    "#from sklearn.dt import SVC\n",
    "from sklearn.tree import DecisionTreeClassifier\n",
    "from sklearn.ensemble import RandomForestClassifier\n",
    "#from sklearn.neighbors import KNeighborsClassifier\n",
    "from sklearn.metrics import accuracy_score, classification_report, confusion_matrix"
   ]
  },
  {
   "cell_type": "markdown",
   "metadata": {},
   "source": [
    "# Testando númerode features"
   ]
  },
  {
   "cell_type": "markdown",
   "metadata": {},
   "source": [
    "# DT"
   ]
  },
  {
   "cell_type": "markdown",
   "metadata": {},
   "source": [
    "## Ciclo 2"
   ]
  },
  {
   "cell_type": "markdown",
   "metadata": {},
   "source": [
    "Avaliando número de features"
   ]
  },
  {
   "cell_type": "code",
   "execution_count": 28,
   "metadata": {},
   "outputs": [
    {
     "name": "stdout",
     "output_type": "stream",
     "text": [
      "n= 1 score: 0.6955056242435859\n",
      "n= 2 score: 0.7978392408357132\n",
      "n= 3 score: 0.8568273723422487\n",
      "n= 4 score: 0.8356884020074752\n",
      "n= 5 score: 0.8457930790513514\n",
      "n= 6 score: 0.8896684994941509\n",
      "n= 7 score: 0.8650827378951861\n",
      "n= 8 score: 0.8987041509609517\n",
      "n= 9 score: 0.8915567798854069\n",
      "n= 10 score: 0.9043426206239978\n",
      "n= 11 score: 0.8900499399382708\n",
      "n= 12 score: 0.8898077782772961\n",
      "n= 13 score: 0.8644857768860411\n",
      "n= 14 score: 0.8695958101166646\n",
      "n= 15 score: 0.8700572574919655\n",
      "n= 16 score: 0.8867024488699474\n",
      "n= 17 score: 0.8712595947297442\n",
      "n= 18 score: 0.8613235188532872\n",
      "n= 19 score: 0.8832389216058821\n",
      "n= 20 score: 0.858905420544615\n",
      "n= 21 score: 0.8741870818890409\n",
      "n= 22 score: 0.8686121272363266\n",
      "n= 23 score: 0.8722359448404856\n",
      "n= 24 score: 0.878152537211568\n",
      "n= 25 score: 0.8592253166634634\n",
      "n= 26 score: 0.8646306784222034\n",
      "n= 27 score: 0.8646437860857898\n",
      "n= 28 score: 0.8707974194177828\n",
      "n= 29 score: 0.8629008092022842\n",
      "n= 30 score: 0.8642113590287659\n",
      "n= 31 score: 0.8700520738010079\n",
      "n= 32 score: 0.8711576210666917\n",
      "n= 33 score: 0.8849289376973583\n",
      "n= 34 score: 0.8703337416148806\n",
      "n= 35 score: 0.8663729498088394\n",
      "n= 36 score: 0.8515971644615014\n",
      "n= 37 score: 0.865742199569174\n",
      "n= 38 score: 0.8727906906374548\n",
      "n= 39 score: 0.8791567590535293\n",
      "n= 40 score: 0.868417814421725\n",
      "n= 41 score: 0.8682808304689417\n"
     ]
    },
    {
     "data": {
      "image/png": "[encoded data removed]",
      "text/plain": [
       "<Figure size 1400x800 with 1 Axes>"
      ]
     },
     "metadata": {},
     "output_type": "display_data"
    }
   ],
   "source": [
    "estimator = DecisionTreeClassifier()\n",
    "\n",
    "# Listas para armazenar as métricas\n",
    "num_features = list(range(1, X_train_c2.shape[1] + 1))\n",
    "f1_scores = []\n",
    "\n",
    "start_time_c2_ft = time.time()\n",
    "# Loop através de diferentes números de features\n",
    "for n in num_features:\n",
    "    rfe = RFE(estimator=estimator, n_features_to_select=n)\n",
    "    rfe = rfe.fit(X_train_c2, y_train_c2)\n",
    "    \n",
    "    # Transformar os conjuntos de treino e teste para selecionar as principais features\n",
    "    X_train_c2_rfe = rfe.transform(X_train_c2)\n",
    "    X_test_c2_rfe = rfe.transform(X_test_c2)\n",
    "    \n",
    "    # Inicializar e realizar Grid Search no modelo de Árvore de Decisão\n",
    "    dt_model = DecisionTreeClassifier()\n",
    "    dt_model.fit(X_train_c2_rfe, y_train_c2)\n",
    "    \n",
    "    \n",
    "    # Fazer previsões no conjunto de teste\n",
    "    y_pred_dt_test_c2 = dt_model.predict(X_test_c2_rfe)\n",
    "    \n",
    "    # Calcular o F1 score\n",
    "    f1 = f1_score(y_test_c2, y_pred_dt_test_c2, average='macro')\n",
    "    \n",
    "    # Armazenar a métrica\n",
    "    f1_scores.append(f1)\n",
    "    print(f'n= {n} score: {f1}')\n",
    "end_time_c2_ft = time.time()\n",
    "# Plotar o F1 score em relação ao número de features\n",
    "\n",
    "plt.figure(figsize=(14, 8))\n",
    "plt.plot(num_features, f1_scores, label='F1 Score', marker='o')\n",
    "plt.xlabel('Número de Features Selecionadas')\n",
    "plt.ylabel('F1 Score')\n",
    "plt.title('Desempenho do Modelo vs Número de Features Selecionadas (Árvore de Decisão)')\n",
    "plt.legend()\n",
    "plt.grid(True)\n",
    "plt.show()"
   ]
  },
  {
   "cell_type": "markdown",
   "metadata": {},
   "source": [
    "executar algoritmo com melhor feature (24)\n",
    "e plotar matriz de confusão"
   ]
  },
  {
   "cell_type": "code",
   "execution_count": 29,
   "metadata": {},
   "outputs": [
    {
     "data": {
      "image/png": "[encoded data removed]",
      "text/plain": [
       "<Figure size 1000x700 with 2 Axes>"
      ]
     },
     "metadata": {},
     "output_type": "display_data"
    },
    {
     "name": "stdout",
     "output_type": "stream",
     "text": [
      "f1-score = 0.9041828527494689\n"
     ]
    }
   ],
   "source": [
    "start_time_c2_dt = time.time()\n",
    "# executar algoritmo com melhor número\n",
    "rfe = RFE(estimator=estimator, n_features_to_select=10)\n",
    "rfe = rfe.fit(X_train_c2, y_train_c2)\n",
    "\n",
    "# Transformar os conjuntos de treino e teste para selecionar as principais features\n",
    "X_train_c2_rfe = rfe.transform(X_train_c2)\n",
    "X_test_c2_rfe = rfe.transform(X_test_c2)\n",
    "\n",
    "# Inicializar e treinar o modelo dt\n",
    "dt_model = DecisionTreeClassifier()\n",
    "dt_model.fit(X_train_c2_rfe, y_train_c2)    \n",
    "# Fazer previsões no conjunto de teste\n",
    "y_pred_dt_test_c2 = dt_model.predict(X_test_c2_rfe)\n",
    "\n",
    "end_time_c2_dt = time.time()\n",
    "\n",
    "# Plot confusion matrix\n",
    "conf_matrix = confusion_matrix(y_test_c2, y_pred_dt_test_c2)\n",
    "plt.figure(figsize=(10, 7))\n",
    "sns.heatmap(conf_matrix, annot=True, fmt='d', cmap='Blues', xticklabels=le_y.classes_, yticklabels=le_y.classes_)\n",
    "plt.xlabel('Classe Predita')\n",
    "plt.ylabel('Classe Real')\n",
    "plt.title('Matriz  de Confusão Ciclo 2')\n",
    "plt.show()\n",
    "\n",
    "f1_dt_test_c2 = f1_score(y_test_c2, y_pred_dt_test_c2, average='macro')\n",
    "print(f'f1-score = {f1_dt_test_c2}')"
   ]
  },
  {
   "cell_type": "markdown",
   "metadata": {},
   "source": [
    "Resultados Ciclo 2"
   ]
  },
  {
   "cell_type": "code",
   "execution_count": 30,
   "metadata": {},
   "outputs": [
    {
     "name": "stdout",
     "output_type": "stream",
     "text": [
      "accuracy = 0.9081106422878574\n",
      "recall = 0.9051336146272856\n",
      "f1-sciore = 0.9041828527494689\n"
     ]
    }
   ],
   "source": [
    "# Resultados Ciclo 2\n",
    "accuracy_dt_test_c2 = accuracy_score(y_test_c2, y_pred_dt_test_c2)\n",
    "recall_dt_test_c2 = recall_score(y_test_c2, y_pred_dt_test_c2, average='macro')\n",
    "f1_dt_test_c2 = f1_score(y_test_c2, y_pred_dt_test_c2, average='macro')\n",
    "\n",
    "print(f'accuracy = {accuracy_dt_test_c2}')\n",
    "print(f'recall = {recall_dt_test_c2}')\n",
    "print(f'f1-sciore = {f1_dt_test_c2}')"
   ]
  },
  {
   "cell_type": "markdown",
   "metadata": {},
   "source": [
    "## Ciclo 1"
   ]
  },
  {
   "cell_type": "markdown",
   "metadata": {},
   "source": [
    "levantamento melhor feature (1)"
   ]
  },
  {
   "cell_type": "code",
   "execution_count": 32,
   "metadata": {},
   "outputs": [
    {
     "data": {
      "text/html": [
       "<div>\n",
       "<style scoped>\n",
       "    .dataframe tbody tr th:only-of-type {\n",
       "        vertical-align: middle;\n",
       "    }\n",
       "\n",
       "    .dataframe tbody tr th {\n",
       "        vertical-align: top;\n",
       "    }\n",
       "\n",
       "    .dataframe thead th {\n",
       "        text-align: right;\n",
       "    }\n",
       "</style>\n",
       "<table border=\"1\" class=\"dataframe\">\n",
       "  <thead>\n",
       "    <tr style=\"text-align: right;\">\n",
       "      <th></th>\n",
       "      <th>Input Torque.rms</th>\n",
       "      <th>Input Torque.pk_pk</th>\n",
       "      <th>Input Torque.kurtosis</th>\n",
       "      <th>Input Torque.crest_factor</th>\n",
       "      <th>Input Torque.skewness</th>\n",
       "      <th>Input Torque.shape_factor</th>\n",
       "      <th>Input Torque.mean</th>\n",
       "      <th>Input Torque.std</th>\n",
       "      <th>Input Torque.min</th>\n",
       "      <th>Input Torque.max</th>\n",
       "      <th>...</th>\n",
       "      <th>gearbox_vibration_z.pk_pk</th>\n",
       "      <th>gearbox_vibration_z.kurtosis</th>\n",
       "      <th>gearbox_vibration_z.crest_factor</th>\n",
       "      <th>gearbox_vibration_z.skewness</th>\n",
       "      <th>gearbox_vibration_z.shape_factor</th>\n",
       "      <th>gearbox_vibration_z.mean</th>\n",
       "      <th>gearbox_vibration_z.std</th>\n",
       "      <th>gearbox_vibration_z.min</th>\n",
       "      <th>gearbox_vibration_z.max</th>\n",
       "      <th>Torque</th>\n",
       "    </tr>\n",
       "  </thead>\n",
       "  <tbody>\n",
       "    <tr>\n",
       "      <th>0</th>\n",
       "      <td>0.345814</td>\n",
       "      <td>0.014328</td>\n",
       "      <td>0.328475</td>\n",
       "      <td>0.012063</td>\n",
       "      <td>0.324081</td>\n",
       "      <td>0.000681</td>\n",
       "      <td>0.296231</td>\n",
       "      <td>0.009428</td>\n",
       "      <td>0.301869</td>\n",
       "      <td>0.286732</td>\n",
       "      <td>...</td>\n",
       "      <td>0.149771</td>\n",
       "      <td>0.211119</td>\n",
       "      <td>0.141065</td>\n",
       "      <td>0.377673</td>\n",
       "      <td>0.331754</td>\n",
       "      <td>0.484181</td>\n",
       "      <td>0.321538</td>\n",
       "      <td>0.805905</td>\n",
       "      <td>0.130430</td>\n",
       "      <td>0</td>\n",
       "    </tr>\n",
       "    <tr>\n",
       "      <th>1</th>\n",
       "      <td>0.345989</td>\n",
       "      <td>0.021745</td>\n",
       "      <td>0.312702</td>\n",
       "      <td>0.013625</td>\n",
       "      <td>0.320071</td>\n",
       "      <td>0.000795</td>\n",
       "      <td>0.296154</td>\n",
       "      <td>0.012416</td>\n",
       "      <td>0.300727</td>\n",
       "      <td>0.287802</td>\n",
       "      <td>...</td>\n",
       "      <td>0.186463</td>\n",
       "      <td>0.276572</td>\n",
       "      <td>0.318899</td>\n",
       "      <td>0.334581</td>\n",
       "      <td>0.408023</td>\n",
       "      <td>0.441228</td>\n",
       "      <td>0.293573</td>\n",
       "      <td>0.732432</td>\n",
       "      <td>0.116994</td>\n",
       "      <td>0</td>\n",
       "    </tr>\n",
       "    <tr>\n",
       "      <th>2</th>\n",
       "      <td>0.347105</td>\n",
       "      <td>0.004511</td>\n",
       "      <td>0.293375</td>\n",
       "      <td>0.011789</td>\n",
       "      <td>0.311803</td>\n",
       "      <td>0.000691</td>\n",
       "      <td>0.295611</td>\n",
       "      <td>0.009837</td>\n",
       "      <td>0.301393</td>\n",
       "      <td>0.283331</td>\n",
       "      <td>...</td>\n",
       "      <td>0.202570</td>\n",
       "      <td>0.214269</td>\n",
       "      <td>0.233302</td>\n",
       "      <td>0.381908</td>\n",
       "      <td>0.317580</td>\n",
       "      <td>0.396278</td>\n",
       "      <td>0.325472</td>\n",
       "      <td>0.752829</td>\n",
       "      <td>0.180129</td>\n",
       "      <td>0</td>\n",
       "    </tr>\n",
       "    <tr>\n",
       "      <th>3</th>\n",
       "      <td>0.347813</td>\n",
       "      <td>0.021491</td>\n",
       "      <td>0.348087</td>\n",
       "      <td>0.011891</td>\n",
       "      <td>0.342203</td>\n",
       "      <td>0.000747</td>\n",
       "      <td>0.295275</td>\n",
       "      <td>0.011395</td>\n",
       "      <td>0.300962</td>\n",
       "      <td>0.287961</td>\n",
       "      <td>...</td>\n",
       "      <td>0.201218</td>\n",
       "      <td>0.274866</td>\n",
       "      <td>0.348565</td>\n",
       "      <td>0.349145</td>\n",
       "      <td>0.344502</td>\n",
       "      <td>0.638984</td>\n",
       "      <td>0.300104</td>\n",
       "      <td>0.711359</td>\n",
       "      <td>0.122700</td>\n",
       "      <td>0</td>\n",
       "    </tr>\n",
       "    <tr>\n",
       "      <th>4</th>\n",
       "      <td>0.348619</td>\n",
       "      <td>0.028864</td>\n",
       "      <td>0.435657</td>\n",
       "      <td>0.012255</td>\n",
       "      <td>0.454937</td>\n",
       "      <td>0.000838</td>\n",
       "      <td>0.294894</td>\n",
       "      <td>0.013812</td>\n",
       "      <td>0.300304</td>\n",
       "      <td>0.289501</td>\n",
       "      <td>...</td>\n",
       "      <td>0.262902</td>\n",
       "      <td>0.311910</td>\n",
       "      <td>0.341983</td>\n",
       "      <td>0.338132</td>\n",
       "      <td>0.491495</td>\n",
       "      <td>0.612642</td>\n",
       "      <td>0.325048</td>\n",
       "      <td>0.693863</td>\n",
       "      <td>0.239125</td>\n",
       "      <td>0</td>\n",
       "    </tr>\n",
       "    <tr>\n",
       "      <th>...</th>\n",
       "      <td>...</td>\n",
       "      <td>...</td>\n",
       "      <td>...</td>\n",
       "      <td>...</td>\n",
       "      <td>...</td>\n",
       "      <td>...</td>\n",
       "      <td>...</td>\n",
       "      <td>...</td>\n",
       "      <td>...</td>\n",
       "      <td>...</td>\n",
       "      <td>...</td>\n",
       "      <td>...</td>\n",
       "      <td>...</td>\n",
       "      <td>...</td>\n",
       "      <td>...</td>\n",
       "      <td>...</td>\n",
       "      <td>...</td>\n",
       "      <td>...</td>\n",
       "      <td>...</td>\n",
       "      <td>...</td>\n",
       "      <td>...</td>\n",
       "    </tr>\n",
       "    <tr>\n",
       "      <th>2155</th>\n",
       "      <td>0.932783</td>\n",
       "      <td>0.043567</td>\n",
       "      <td>0.442655</td>\n",
       "      <td>0.007787</td>\n",
       "      <td>0.440993</td>\n",
       "      <td>0.000031</td>\n",
       "      <td>0.967700</td>\n",
       "      <td>0.016123</td>\n",
       "      <td>0.969540</td>\n",
       "      <td>0.962431</td>\n",
       "      <td>...</td>\n",
       "      <td>0.489463</td>\n",
       "      <td>0.419196</td>\n",
       "      <td>0.347392</td>\n",
       "      <td>0.278543</td>\n",
       "      <td>0.584078</td>\n",
       "      <td>0.240900</td>\n",
       "      <td>0.525965</td>\n",
       "      <td>0.557659</td>\n",
       "      <td>0.572424</td>\n",
       "      <td>1</td>\n",
       "    </tr>\n",
       "    <tr>\n",
       "      <th>2156</th>\n",
       "      <td>0.930995</td>\n",
       "      <td>0.046663</td>\n",
       "      <td>0.503780</td>\n",
       "      <td>0.007818</td>\n",
       "      <td>0.546674</td>\n",
       "      <td>0.000041</td>\n",
       "      <td>0.966839</td>\n",
       "      <td>0.017435</td>\n",
       "      <td>0.967765</td>\n",
       "      <td>0.961581</td>\n",
       "      <td>...</td>\n",
       "      <td>0.745748</td>\n",
       "      <td>0.530415</td>\n",
       "      <td>0.658763</td>\n",
       "      <td>0.287081</td>\n",
       "      <td>0.538249</td>\n",
       "      <td>0.498968</td>\n",
       "      <td>0.561833</td>\n",
       "      <td>0.269727</td>\n",
       "      <td>0.773937</td>\n",
       "      <td>1</td>\n",
       "    </tr>\n",
       "    <tr>\n",
       "      <th>2157</th>\n",
       "      <td>0.931063</td>\n",
       "      <td>0.048253</td>\n",
       "      <td>0.391206</td>\n",
       "      <td>0.006823</td>\n",
       "      <td>0.415706</td>\n",
       "      <td>0.000049</td>\n",
       "      <td>0.966871</td>\n",
       "      <td>0.018429</td>\n",
       "      <td>0.965688</td>\n",
       "      <td>0.959980</td>\n",
       "      <td>...</td>\n",
       "      <td>0.888014</td>\n",
       "      <td>0.870007</td>\n",
       "      <td>1.000000</td>\n",
       "      <td>0.307838</td>\n",
       "      <td>0.699644</td>\n",
       "      <td>0.699859</td>\n",
       "      <td>0.568326</td>\n",
       "      <td>0.018841</td>\n",
       "      <td>0.766411</td>\n",
       "      <td>1</td>\n",
       "    </tr>\n",
       "    <tr>\n",
       "      <th>2158</th>\n",
       "      <td>0.932098</td>\n",
       "      <td>0.058645</td>\n",
       "      <td>0.436180</td>\n",
       "      <td>0.008369</td>\n",
       "      <td>0.489875</td>\n",
       "      <td>0.000083</td>\n",
       "      <td>0.967363</td>\n",
       "      <td>0.022896</td>\n",
       "      <td>0.965654</td>\n",
       "      <td>0.963043</td>\n",
       "      <td>...</td>\n",
       "      <td>0.458094</td>\n",
       "      <td>0.415244</td>\n",
       "      <td>0.312507</td>\n",
       "      <td>0.374083</td>\n",
       "      <td>0.550915</td>\n",
       "      <td>0.387782</td>\n",
       "      <td>0.503161</td>\n",
       "      <td>0.563847</td>\n",
       "      <td>0.509662</td>\n",
       "      <td>1</td>\n",
       "    </tr>\n",
       "    <tr>\n",
       "      <th>2159</th>\n",
       "      <td>0.932467</td>\n",
       "      <td>0.060892</td>\n",
       "      <td>0.438150</td>\n",
       "      <td>0.009102</td>\n",
       "      <td>0.476469</td>\n",
       "      <td>0.000104</td>\n",
       "      <td>0.967537</td>\n",
       "      <td>0.025481</td>\n",
       "      <td>0.966377</td>\n",
       "      <td>0.964435</td>\n",
       "      <td>...</td>\n",
       "      <td>0.528995</td>\n",
       "      <td>0.387461</td>\n",
       "      <td>0.547983</td>\n",
       "      <td>0.302077</td>\n",
       "      <td>0.467998</td>\n",
       "      <td>0.435998</td>\n",
       "      <td>0.555600</td>\n",
       "      <td>0.354569</td>\n",
       "      <td>0.395453</td>\n",
       "      <td>1</td>\n",
       "    </tr>\n",
       "  </tbody>\n",
       "</table>\n",
       "<p>2160 rows × 41 columns</p>\n",
       "</div>"
      ],
      "text/plain": [
       "      Input Torque.rms  Input Torque.pk_pk  Input Torque.kurtosis  \\\n",
       "0             0.345814            0.014328               0.328475   \n",
       "1             0.345989            0.021745               0.312702   \n",
       "2             0.347105            0.004511               0.293375   \n",
       "3             0.347813            0.021491               0.348087   \n",
       "4             0.348619            0.028864               0.435657   \n",
       "...                ...                 ...                    ...   \n",
       "2155          0.932783            0.043567               0.442655   \n",
       "2156          0.930995            0.046663               0.503780   \n",
       "2157          0.931063            0.048253               0.391206   \n",
       "2158          0.932098            0.058645               0.436180   \n",
       "2159          0.932467            0.060892               0.438150   \n",
       "\n",
       "      Input Torque.crest_factor  Input Torque.skewness  \\\n",
       "0                      0.012063               0.324081   \n",
       "1                      0.013625               0.320071   \n",
       "2                      0.011789               0.311803   \n",
       "3                      0.011891               0.342203   \n",
       "4                      0.012255               0.454937   \n",
       "...                         ...                    ...   \n",
       "2155                   0.007787               0.440993   \n",
       "2156                   0.007818               0.546674   \n",
       "2157                   0.006823               0.415706   \n",
       "2158                   0.008369               0.489875   \n",
       "2159                   0.009102               0.476469   \n",
       "\n",
       "      Input Torque.shape_factor  Input Torque.mean  Input Torque.std  \\\n",
       "0                      0.000681           0.296231          0.009428   \n",
       "1                      0.000795           0.296154          0.012416   \n",
       "2                      0.000691           0.295611          0.009837   \n",
       "3                      0.000747           0.295275          0.011395   \n",
       "4                      0.000838           0.294894          0.013812   \n",
       "...                         ...                ...               ...   \n",
       "2155                   0.000031           0.967700          0.016123   \n",
       "2156                   0.000041           0.966839          0.017435   \n",
       "2157                   0.000049           0.966871          0.018429   \n",
       "2158                   0.000083           0.967363          0.022896   \n",
       "2159                   0.000104           0.967537          0.025481   \n",
       "\n",
       "      Input Torque.min  Input Torque.max  ...  gearbox_vibration_z.pk_pk  \\\n",
       "0             0.301869          0.286732  ...                   0.149771   \n",
       "1             0.300727          0.287802  ...                   0.186463   \n",
       "2             0.301393          0.283331  ...                   0.202570   \n",
       "3             0.300962          0.287961  ...                   0.201218   \n",
       "4             0.300304          0.289501  ...                   0.262902   \n",
       "...                ...               ...  ...                        ...   \n",
       "2155          0.969540          0.962431  ...                   0.489463   \n",
       "2156          0.967765          0.961581  ...                   0.745748   \n",
       "2157          0.965688          0.959980  ...                   0.888014   \n",
       "2158          0.965654          0.963043  ...                   0.458094   \n",
       "2159          0.966377          0.964435  ...                   0.528995   \n",
       "\n",
       "      gearbox_vibration_z.kurtosis  gearbox_vibration_z.crest_factor  \\\n",
       "0                         0.211119                          0.141065   \n",
       "1                         0.276572                          0.318899   \n",
       "2                         0.214269                          0.233302   \n",
       "3                         0.274866                          0.348565   \n",
       "4                         0.311910                          0.341983   \n",
       "...                            ...                               ...   \n",
       "2155                      0.419196                          0.347392   \n",
       "2156                      0.530415                          0.658763   \n",
       "2157                      0.870007                          1.000000   \n",
       "2158                      0.415244                          0.312507   \n",
       "2159                      0.387461                          0.547983   \n",
       "\n",
       "      gearbox_vibration_z.skewness  gearbox_vibration_z.shape_factor  \\\n",
       "0                         0.377673                          0.331754   \n",
       "1                         0.334581                          0.408023   \n",
       "2                         0.381908                          0.317580   \n",
       "3                         0.349145                          0.344502   \n",
       "4                         0.338132                          0.491495   \n",
       "...                            ...                               ...   \n",
       "2155                      0.278543                          0.584078   \n",
       "2156                      0.287081                          0.538249   \n",
       "2157                      0.307838                          0.699644   \n",
       "2158                      0.374083                          0.550915   \n",
       "2159                      0.302077                          0.467998   \n",
       "\n",
       "      gearbox_vibration_z.mean  gearbox_vibration_z.std  \\\n",
       "0                     0.484181                 0.321538   \n",
       "1                     0.441228                 0.293573   \n",
       "2                     0.396278                 0.325472   \n",
       "3                     0.638984                 0.300104   \n",
       "4                     0.612642                 0.325048   \n",
       "...                        ...                      ...   \n",
       "2155                  0.240900                 0.525965   \n",
       "2156                  0.498968                 0.561833   \n",
       "2157                  0.699859                 0.568326   \n",
       "2158                  0.387782                 0.503161   \n",
       "2159                  0.435998                 0.555600   \n",
       "\n",
       "      gearbox_vibration_z.min  gearbox_vibration_z.max  Torque  \n",
       "0                    0.805905                 0.130430       0  \n",
       "1                    0.732432                 0.116994       0  \n",
       "2                    0.752829                 0.180129       0  \n",
       "3                    0.711359                 0.122700       0  \n",
       "4                    0.693863                 0.239125       0  \n",
       "...                       ...                      ...     ...  \n",
       "2155                 0.557659                 0.572424       1  \n",
       "2156                 0.269727                 0.773937       1  \n",
       "2157                 0.018841                 0.766411       1  \n",
       "2158                 0.563847                 0.509662       1  \n",
       "2159                 0.354569                 0.395453       1  \n",
       "\n",
       "[2160 rows x 41 columns]"
      ]
     },
     "execution_count": 32,
     "metadata": {},
     "output_type": "execute_result"
    }
   ],
   "source": [
    "X_train_c1"
   ]
  },
  {
   "cell_type": "code",
   "execution_count": 19,
   "metadata": {},
   "outputs": [
    {
     "name": "stdout",
     "output_type": "stream",
     "text": [
      "n= 1 score: 0.9694292292685559\n",
      "n= 2 score: 0.9694292292685559\n",
      "n= 3 score: 0.8727880681068239\n",
      "n= 4 score: 0.9114988851446426\n",
      "n= 5 score: 0.9114988851446426\n",
      "n= 6 score: 0.9114988851446426\n",
      "n= 7 score: 0.9114988851446426\n",
      "n= 8 score: 0.9114988851446426\n",
      "n= 9 score: 0.9114988851446426\n",
      "n= 10 score: 0.9114988851446426\n",
      "n= 11 score: 0.9114988851446426\n",
      "n= 12 score: 0.9114988851446426\n",
      "n= 13 score: 0.9114988851446426\n",
      "n= 14 score: 0.9114988851446426\n",
      "n= 15 score: 0.9114988851446426\n",
      "n= 16 score: 0.9070284406668847\n",
      "n= 17 score: 0.9114988851446426\n",
      "n= 18 score: 0.9114988851446426\n",
      "n= 19 score: 0.9114988851446426\n",
      "n= 20 score: 0.9114988851446426\n",
      "n= 21 score: 0.9070284406668847\n",
      "n= 22 score: 0.9114988851446426\n",
      "n= 23 score: 0.9070284406668847\n",
      "n= 24 score: 0.9114988851446426\n",
      "n= 25 score: 0.9114988851446426\n",
      "n= 26 score: 0.9114988851446426\n",
      "n= 27 score: 0.9070284406668847\n",
      "n= 28 score: 0.9070284406668847\n",
      "n= 29 score: 0.9070284406668847\n",
      "n= 30 score: 0.9114988851446426\n",
      "n= 31 score: 0.9070284406668847\n",
      "n= 32 score: 0.9114988851446426\n",
      "n= 33 score: 0.9070284406668847\n",
      "n= 34 score: 0.9114988851446426\n",
      "n= 35 score: 0.9114988851446426\n",
      "n= 36 score: 0.9114988851446426\n",
      "n= 37 score: 0.9114988851446426\n",
      "n= 38 score: 0.9070284406668847\n",
      "n= 39 score: 0.9070284406668847\n",
      "n= 40 score: 0.9114988851446426\n",
      "n= 41 score: 0.8500906151167336\n"
     ]
    },
    {
     "data": {
      "image/png": "[encoded data removed]",
      "text/plain": [
       "<Figure size 1400x800 with 1 Axes>"
      ]
     },
     "metadata": {},
     "output_type": "display_data"
    }
   ],
   "source": [
    "estimator = DecisionTreeClassifier()\n",
    "\n",
    "# Listas para armazenar as métricas\n",
    "num_features = list(range(1, X_train_c1.shape[1] + 1))\n",
    "f1_scores = []\n",
    "\n",
    "start_time_c1_ft = time.time()\n",
    "# Loop através de diferentes números de features\n",
    "for n in num_features:\n",
    "    rfe = RFE(estimator=estimator, n_features_to_select=n)\n",
    "    rfe = rfe.fit(X_train_c1, y_train_c1)\n",
    "    \n",
    "    # Transformar os conjuntos de treino e teste para selecionar as principais features\n",
    "    X_train_c1_rfe = rfe.transform(X_train_c1)\n",
    "    X_test_c1_rfe = rfe.transform(X_test_c1)\n",
    "    \n",
    "    # Inicializar e realizar Grid Search no modelo de Árvore de Decisão\n",
    "    dt_model = DecisionTreeClassifier()\n",
    "    dt_model.fit(X_train_c1_rfe, y_train_c1)\n",
    "    \n",
    "    # Fazer previsões no conjunto de teste\n",
    "    y_pred_dt_test_c1 = dt_model.predict(X_test_c1_rfe)\n",
    "    \n",
    "    # Calcular o F1 score\n",
    "    f1 = f1_score(y_test_c1, y_pred_dt_test_c1, average='macro')\n",
    "    \n",
    "    # Armazenar a métrica\n",
    "    f1_scores.append(f1)\n",
    "    print(f'n= {n} score: {f1}')\n",
    "end_time_c1_ft = time.time()\n",
    "\n",
    "# Plotar o F1 score em relação ao número de features\n",
    "plt.figure(figsize=(14, 8))\n",
    "plt.plot(num_features, f1_scores, label='F1 Score', marker='o')\n",
    "plt.xlabel('Número de Features Selecionadas')\n",
    "plt.ylabel('F1 Score')\n",
    "plt.title('Desempenho do Modelo vs Número de Features Selecionadas C1 (Árvore de Decisão)')\n",
    "plt.legend()\n",
    "plt.grid(True)\n",
    "plt.show()"
   ]
  },
  {
   "cell_type": "markdown",
   "metadata": {},
   "source": [
    "Aplicação melhor feature\n",
    "e plotar matriz de confusão"
   ]
  },
  {
   "cell_type": "code",
   "execution_count": 31,
   "metadata": {},
   "outputs": [
    {
     "data": {
      "image/png": "[encoded data removed]",
      "text/plain": [
       "<Figure size 1000x700 with 2 Axes>"
      ]
     },
     "metadata": {},
     "output_type": "display_data"
    },
    {
     "name": "stdout",
     "output_type": "stream",
     "text": [
      "f1-sciore = 0.9694292292685559\n"
     ]
    }
   ],
   "source": [
    "start_time_c1_dt = time.time()\n",
    "# executar algoritmo com melhor número\n",
    "rfe = RFE(estimator=estimator, n_features_to_select=1)\n",
    "rfe = rfe.fit(X_train_c1, y_train_c1)\n",
    "\n",
    "# Transformar os conjuntos de treino e teste para selecionar as principais features\n",
    "X_train_c1_rfe = rfe.transform(X_train_c1)\n",
    "X_test_c1_rfe = rfe.transform(X_test_c1)\n",
    "\n",
    "# Inicializar e treinar o modelo dt\n",
    "dt_model = DecisionTreeClassifier()\n",
    "dt_model.fit(X_train_c1_rfe, y_train_c1)    \n",
    "# Fazer previsões no conjunto de teste\n",
    "y_pred_dt_test_c1 = dt_model.predict(X_test_c1_rfe)\n",
    "\n",
    "end_time_c1_dt = time.time()\n",
    "\n",
    "# Plot confusion matrix\n",
    "labels_c1 = ['health','not health']\n",
    "\n",
    "conf_matrix = confusion_matrix(y_test_c1, y_pred_dt_test_c1)\n",
    "plt.figure(figsize=(10, 7))\n",
    "sns.heatmap(conf_matrix, annot=True, fmt='d', cmap='Blues', xticklabels=labels_c1, yticklabels=labels_c1)\n",
    "plt.xlabel('Classe Predita')\n",
    "plt.ylabel('Classe Real')\n",
    "plt.title('Matriz  de Confusão Ciclo 1')\n",
    "plt.show()\n",
    "\n",
    "f1_dt_test_c1 = f1_score(y_test_c1, y_pred_dt_test_c1, average='macro')\n",
    "\n",
    "print(f'f1-sciore = {f1_dt_test_c1}')"
   ]
  },
  {
   "cell_type": "code",
   "execution_count": 21,
   "metadata": {},
   "outputs": [
    {
     "name": "stdout",
     "output_type": "stream",
     "text": [
      "accuracy = 0.9920300046882325\n",
      "recall = 0.9462025316455696\n",
      "f1-sciore = 0.9694292292685559\n"
     ]
    }
   ],
   "source": [
    "# Resultados Ciclo 2\n",
    "accuracy_dt_test_c1 = accuracy_score(y_test_c1, y_pred_dt_test_c1)\n",
    "recall_dt_test_c1 = recall_score(y_test_c1, y_pred_dt_test_c1, average='macro')\n",
    "f1_dt_test_c1 = f1_score(y_test_c1, y_pred_dt_test_c1, average='macro')\n",
    "\n",
    "print(f'accuracy = {accuracy_dt_test_c1}')\n",
    "print(f'recall = {recall_dt_test_c1}')\n",
    "print(f'f1-sciore = {f1_dt_test_c1}')"
   ]
  },
  {
   "cell_type": "markdown",
   "metadata": {},
   "source": [
    "### Resultados DT"
   ]
  },
  {
   "cell_type": "code",
   "execution_count": 22,
   "metadata": {},
   "outputs": [
    {
     "name": "stdout",
     "output_type": "stream",
     "text": [
      "     Metric Score Ciclo 1 Score Ciclo 2\n",
      "0  Accuracy       0.99203      0.889358\n",
      "1    Recall      0.946203      0.869058\n",
      "2  F1 Score      0.969429      0.868225\n",
      "3  Features             1             9\n"
     ]
    }
   ],
   "source": [
    "# Resultados Ciclo 1\n",
    "accuracy_dt_test_c1 = accuracy_score(y_test_c1, y_pred_dt_test_c1)\n",
    "recall_dt_test_c1 = recall_score(y_test_c1, y_pred_dt_test_c1, average='macro')\n",
    "f1_dt_test_c1 = f1_score(y_test_c1, y_pred_dt_test_c1, average='macro')\n",
    "\n",
    "\n",
    "\n",
    "\n",
    "# Create metrics table\n",
    "metrics_table = pd.DataFrame({\n",
    "    'Metric': ['Accuracy', 'Recall', 'F1 Score', 'Features'],\n",
    "    'Score Ciclo 1': [accuracy_dt_test_c1, recall_dt_test_c1, f1_dt_test_c1,'1'],\n",
    "    'Score Ciclo 2': [accuracy_dt_test_c2, recall_dt_test_c2, f1_dt_test_c2,'9']\n",
    "})\n",
    "\n",
    "print(metrics_table)"
   ]
  },
  {
   "cell_type": "markdown",
   "metadata": {},
   "source": [
    "tempos"
   ]
  },
  {
   "cell_type": "code",
   "execution_count": 23,
   "metadata": {},
   "outputs": [
    {
     "name": "stdout",
     "output_type": "stream",
     "text": [
      "c1 ft\n",
      "18.7564115524292\n",
      "c2 ft\n",
      "39.220410108566284\n",
      "c1 svm\n",
      "0.7143144607543945\n",
      "c2 ft\n",
      "1.1784958839416504\n"
     ]
    }
   ],
   "source": [
    "execution_time_c1_ft = end_time_c1_ft - start_time_c1_ft\n",
    "execution_time_c2_ft = end_time_c2_ft - start_time_c2_ft\n",
    "execution_time_c1_svm = end_time_c1_dt - start_time_c1_dt\n",
    "execution_time_c2_svm = end_time_c2_dt - start_time_c2_dt\n",
    "\n",
    "print('c1 ft')\n",
    "print(execution_time_c1_ft)\n",
    "print('c2 ft')\n",
    "print(execution_time_c2_ft)\n",
    "print('c1 svm')\n",
    "print(execution_time_c1_svm)\n",
    "print('c2 ft')\n",
    "print(execution_time_c2_svm)"
   ]
  }
 ],
 "metadata": {
  "kernelspec": {
   "display_name": "base",
   "language": "python",
   "name": "python3"
  },
  "language_info": {
   "codemirror_mode": {
    "name": "ipython",
    "version": 3
   },
   "file_extension": ".py",
   "mimetype": "text/x-python",
   "name": "python",
   "nbconvert_exporter": "python",
   "pygments_lexer": "ipython3",
   "version": "3.11.7"
  }
 },
 "nbformat": 4,
 "nbformat_minor": 2
}
